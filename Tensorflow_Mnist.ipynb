{
 "cells": [
  {
   "cell_type": "code",
   "execution_count": 1,
   "metadata": {},
   "outputs": [],
   "source": [
    "import tensorflow as tf"
   ]
  },
  {
   "cell_type": "code",
   "execution_count": 3,
   "metadata": {},
   "outputs": [],
   "source": [
    "from tensorflow import keras"
   ]
  },
  {
   "cell_type": "code",
   "execution_count": 4,
   "metadata": {},
   "outputs": [
    {
     "data": {
      "text/plain": [
       "'2.1.0'"
      ]
     },
     "execution_count": 4,
     "metadata": {},
     "output_type": "execute_result"
    }
   ],
   "source": [
    "tf.__version__"
   ]
  },
  {
   "cell_type": "code",
   "execution_count": 6,
   "metadata": {},
   "outputs": [
    {
     "name": "stdout",
     "output_type": "stream",
     "text": [
      "Downloading data from https://storage.googleapis.com/tensorflow/tf-keras-datasets/train-labels-idx1-ubyte.gz\n",
      "32768/29515 [=================================] - 0s 0us/step\n",
      "Downloading data from https://storage.googleapis.com/tensorflow/tf-keras-datasets/train-images-idx3-ubyte.gz\n",
      "26427392/26421880 [==============================] - 3s 0us/step\n",
      "Downloading data from https://storage.googleapis.com/tensorflow/tf-keras-datasets/t10k-labels-idx1-ubyte.gz\n",
      "8192/5148 [===============================================] - 0s 0us/step\n",
      "Downloading data from https://storage.googleapis.com/tensorflow/tf-keras-datasets/t10k-images-idx3-ubyte.gz\n",
      "4423680/4422102 [==============================] - 1s 0us/step\n"
     ]
    }
   ],
   "source": [
    "fashion_mnist = keras.datasets.fashion_mnist\n",
    "(X_train_full, y_train_full), (X_test, y_test)=fashion_mnist.load_data()"
   ]
  },
  {
   "cell_type": "code",
   "execution_count": 22,
   "metadata": {},
   "outputs": [
    {
     "data": {
      "text/plain": [
       "(60000, 28, 28)"
      ]
     },
     "execution_count": 22,
     "metadata": {},
     "output_type": "execute_result"
    }
   ],
   "source": [
    "X_train_full.shape"
   ]
  },
  {
   "cell_type": "code",
   "execution_count": 28,
   "metadata": {},
   "outputs": [
    {
     "data": {
      "text/plain": [
       "(60000,)"
      ]
     },
     "execution_count": 28,
     "metadata": {},
     "output_type": "execute_result"
    }
   ],
   "source": [
    "y_train_full.shape"
   ]
  },
  {
   "cell_type": "code",
   "execution_count": 17,
   "metadata": {},
   "outputs": [],
   "source": [
    "X_valid, X_train = X_train_full[:5000]/255.0, X_train_full[5000:]/255.0\n",
    "y_valid, y_train = y_train_full[:5000], y_train_full[5000:]"
   ]
  },
  {
   "cell_type": "code",
   "execution_count": 18,
   "metadata": {},
   "outputs": [],
   "source": [
    "class_names = [\"T-shirt/top\", \"Trouser\", \"Pullover\", \"Dress\", \"Coat\", \"Sandal\", \"Shirt\", \"Sneaker\", \"Bag\", \"Ankle boot\"]"
   ]
  },
  {
   "cell_type": "code",
   "execution_count": 19,
   "metadata": {},
   "outputs": [
    {
     "data": {
      "text/plain": [
       "'Coat'"
      ]
     },
     "execution_count": 19,
     "metadata": {},
     "output_type": "execute_result"
    }
   ],
   "source": [
    "class_names[y_train[0]]"
   ]
  },
  {
   "cell_type": "code",
   "execution_count": 20,
   "metadata": {},
   "outputs": [],
   "source": [
    "model = keras.models.Sequential()\n",
    "model.add(keras.layers.Flatten(input_shape=[28, 28]))\n",
    "model.add(keras.layers.Dense(300, activation=\"relu\"))\n",
    "model.add(keras.layers.Dense(100, activation=\"relu\"))\n",
    "model.add(keras.layers.Dense(10, activation=\"softmax\"))"
   ]
  },
  {
   "cell_type": "code",
   "execution_count": 21,
   "metadata": {},
   "outputs": [
    {
     "name": "stdout",
     "output_type": "stream",
     "text": [
      "Model: \"sequential\"\n",
      "_________________________________________________________________\n",
      "Layer (type)                 Output Shape              Param #   \n",
      "=================================================================\n",
      "flatten (Flatten)            (None, 784)               0         \n",
      "_________________________________________________________________\n",
      "dense (Dense)                (None, 300)               235500    \n",
      "_________________________________________________________________\n",
      "dense_1 (Dense)              (None, 100)               30100     \n",
      "_________________________________________________________________\n",
      "dense_2 (Dense)              (None, 10)                1010      \n",
      "=================================================================\n",
      "Total params: 266,610\n",
      "Trainable params: 266,610\n",
      "Non-trainable params: 0\n",
      "_________________________________________________________________\n"
     ]
    }
   ],
   "source": [
    "model.summary()"
   ]
  },
  {
   "cell_type": "code",
   "execution_count": 25,
   "metadata": {},
   "outputs": [],
   "source": [
    "model.compile(loss=\"sparse_categorical_crossentropy\",\n",
    "optimizer=\"sgd\",\n",
    "metrics=[\"accuracy\"])"
   ]
  },
  {
   "cell_type": "code",
   "execution_count": 27,
   "metadata": {},
   "outputs": [
    {
     "name": "stdout",
     "output_type": "stream",
     "text": [
      "Train on 55000 samples, validate on 5000 samples\n",
      "Epoch 1/30\n",
      "55000/55000 [==============================] - 7s 132us/sample - loss: 0.7204 - accuracy: 0.7681 - val_loss: 0.5147 - val_accuracy: 0.8238\n",
      "Epoch 2/30\n",
      "55000/55000 [==============================] - 6s 117us/sample - loss: 0.4867 - accuracy: 0.8307 - val_loss: 0.4417 - val_accuracy: 0.8524\n",
      "Epoch 3/30\n",
      "55000/55000 [==============================] - 7s 133us/sample - loss: 0.4425 - accuracy: 0.8453 - val_loss: 0.4273 - val_accuracy: 0.8542\n",
      "Epoch 4/30\n",
      "55000/55000 [==============================] - 6s 117us/sample - loss: 0.4156 - accuracy: 0.8550 - val_loss: 0.4560 - val_accuracy: 0.8354\n",
      "Epoch 5/30\n",
      "55000/55000 [==============================] - 7s 121us/sample - loss: 0.3960 - accuracy: 0.8602 - val_loss: 0.4134 - val_accuracy: 0.8586\n",
      "Epoch 6/30\n",
      "55000/55000 [==============================] - 7s 134us/sample - loss: 0.3803 - accuracy: 0.8661 - val_loss: 0.3879 - val_accuracy: 0.8696\n",
      "Epoch 7/30\n",
      "55000/55000 [==============================] - 7s 135us/sample - loss: 0.3672 - accuracy: 0.8700 - val_loss: 0.3620 - val_accuracy: 0.8762\n",
      "Epoch 8/30\n",
      "55000/55000 [==============================] - 7s 120us/sample - loss: 0.3549 - accuracy: 0.8755 - val_loss: 0.3558 - val_accuracy: 0.8770\n",
      "Epoch 9/30\n",
      "55000/55000 [==============================] - 7s 125us/sample - loss: 0.3450 - accuracy: 0.8777 - val_loss: 0.3648 - val_accuracy: 0.8676\n",
      "Epoch 10/30\n",
      "55000/55000 [==============================] - 6s 109us/sample - loss: 0.3351 - accuracy: 0.8799 - val_loss: 0.3493 - val_accuracy: 0.8774\n",
      "Epoch 11/30\n",
      "55000/55000 [==============================] - 7s 122us/sample - loss: 0.3264 - accuracy: 0.8827 - val_loss: 0.3464 - val_accuracy: 0.8788\n",
      "Epoch 12/30\n",
      "55000/55000 [==============================] - 7s 119us/sample - loss: 0.3187 - accuracy: 0.8858 - val_loss: 0.3277 - val_accuracy: 0.8846\n",
      "Epoch 13/30\n",
      "55000/55000 [==============================] - 6s 117us/sample - loss: 0.3110 - accuracy: 0.8889 - val_loss: 0.3461 - val_accuracy: 0.8752\n",
      "Epoch 14/30\n",
      "55000/55000 [==============================] - 6s 109us/sample - loss: 0.3042 - accuracy: 0.8914 - val_loss: 0.3388 - val_accuracy: 0.8778\n",
      "Epoch 15/30\n",
      "55000/55000 [==============================] - 8s 142us/sample - loss: 0.2979 - accuracy: 0.8928 - val_loss: 0.3292 - val_accuracy: 0.8812\n",
      "Epoch 16/30\n",
      "55000/55000 [==============================] - 7s 136us/sample - loss: 0.2919 - accuracy: 0.8961 - val_loss: 0.3243 - val_accuracy: 0.8846\n",
      "Epoch 17/30\n",
      "55000/55000 [==============================] - 6s 101us/sample - loss: 0.2850 - accuracy: 0.8978 - val_loss: 0.3335 - val_accuracy: 0.8796\n",
      "Epoch 18/30\n",
      "55000/55000 [==============================] - 5s 93us/sample - loss: 0.2804 - accuracy: 0.9000 - val_loss: 0.3134 - val_accuracy: 0.8888\n",
      "Epoch 19/30\n",
      "55000/55000 [==============================] - 6s 107us/sample - loss: 0.2758 - accuracy: 0.9008 - val_loss: 0.3117 - val_accuracy: 0.8884\n",
      "Epoch 20/30\n",
      "55000/55000 [==============================] - 5s 95us/sample - loss: 0.2701 - accuracy: 0.9033 - val_loss: 0.3126 - val_accuracy: 0.8882\n",
      "Epoch 21/30\n",
      "55000/55000 [==============================] - 5s 92us/sample - loss: 0.2649 - accuracy: 0.9048 - val_loss: 0.3033 - val_accuracy: 0.8914\n",
      "Epoch 22/30\n",
      "55000/55000 [==============================] - 6s 110us/sample - loss: 0.2610 - accuracy: 0.9050 - val_loss: 0.3126 - val_accuracy: 0.8886\n",
      "Epoch 23/30\n",
      "55000/55000 [==============================] - 5s 85us/sample - loss: 0.2562 - accuracy: 0.9088 - val_loss: 0.3017 - val_accuracy: 0.8922\n",
      "Epoch 24/30\n",
      "55000/55000 [==============================] - 7s 119us/sample - loss: 0.2518 - accuracy: 0.9094 - val_loss: 0.3155 - val_accuracy: 0.8830\n",
      "Epoch 25/30\n",
      "55000/55000 [==============================] - 8s 139us/sample - loss: 0.2479 - accuracy: 0.9121 - val_loss: 0.2983 - val_accuracy: 0.8938\n",
      "Epoch 26/30\n",
      "55000/55000 [==============================] - 5s 100us/sample - loss: 0.2431 - accuracy: 0.9125 - val_loss: 0.3009 - val_accuracy: 0.8884\n",
      "Epoch 27/30\n",
      "55000/55000 [==============================] - 6s 116us/sample - loss: 0.2395 - accuracy: 0.9149 - val_loss: 0.2995 - val_accuracy: 0.8932\n",
      "Epoch 28/30\n",
      "55000/55000 [==============================] - 6s 109us/sample - loss: 0.2361 - accuracy: 0.9153 - val_loss: 0.2976 - val_accuracy: 0.8904\n",
      "Epoch 29/30\n",
      "55000/55000 [==============================] - 6s 110us/sample - loss: 0.2327 - accuracy: 0.9165 - val_loss: 0.3009 - val_accuracy: 0.8916\n",
      "Epoch 30/30\n",
      "55000/55000 [==============================] - 6s 111us/sample - loss: 0.2284 - accuracy: 0.9189 - val_loss: 0.3003 - val_accuracy: 0.8926\n"
     ]
    }
   ],
   "source": [
    "history=model.fit(X_train, y_train, epochs=30, validation_data=(X_valid, y_valid))"
   ]
  },
  {
   "cell_type": "code",
   "execution_count": 30,
   "metadata": {},
   "outputs": [
    {
     "name": "stdout",
     "output_type": "stream",
     "text": [
      "Collecting pandasNote: you may need to restart the kernel to use updated packages.\n",
      "  Downloading pandas-1.0.3-cp37-cp37m-win_amd64.whl (8.7 MB)\n",
      "Collecting pytz>=2017.2\n",
      "  Downloading pytz-2020.1-py2.py3-none-any.whl (510 kB)\n",
      "Requirement already satisfied: python-dateutil>=2.6.1 in c:\\users\\akumar\\anaconda3\\envs\\tf\\lib\\site-packages (from pandas) (2.8.1)\n",
      "Requirement already satisfied: numpy>=1.13.3 in c:\\users\\akumar\\anaconda3\\envs\\tf\\lib\\site-packages (from pandas) (1.18.1)\n",
      "Requirement already satisfied: six>=1.5 in c:\\users\\akumar\\anaconda3\\envs\\tf\\lib\\site-packages (from python-dateutil>=2.6.1->pandas) (1.14.0)\n",
      "Installing collected packages: pytz, pandas\n",
      "Successfully installed pandas-1.0.3 pytz-2020.1\n",
      "\n"
     ]
    }
   ],
   "source": [
    "pip install pandas"
   ]
  },
  {
   "cell_type": "code",
   "execution_count": 31,
   "metadata": {},
   "outputs": [],
   "source": [
    "import pandas as pd"
   ]
  },
  {
   "cell_type": "code",
   "execution_count": 33,
   "metadata": {},
   "outputs": [
    {
     "name": "stdout",
     "output_type": "stream",
     "text": [
      "10000/10000 [==============================] - 1s 76us/sample - loss: 74.0592 - accuracy: 0.8272\n"
     ]
    },
    {
     "data": {
      "text/plain": [
       "[74.05923482589722, 0.8272]"
      ]
     },
     "execution_count": 33,
     "metadata": {},
     "output_type": "execute_result"
    }
   ],
   "source": [
    "model.evaluate(X_test, y_test)"
   ]
  },
  {
   "cell_type": "code",
   "execution_count": 34,
   "metadata": {},
   "outputs": [
    {
     "name": "stdout",
     "output_type": "stream",
     "text": [
      "Train on 55000 samples, validate on 5000 samples\n",
      "Epoch 1/30\n",
      "55000/55000 [==============================] - 5s 99us/sample - loss: 0.2244 - accuracy: 0.9200 - val_loss: 0.2969 - val_accuracy: 0.8944\n",
      "Epoch 2/30\n",
      "55000/55000 [==============================] - 6s 103us/sample - loss: 0.2212 - accuracy: 0.9206 - val_loss: 0.2914 - val_accuracy: 0.8986\n",
      "Epoch 3/30\n",
      "55000/55000 [==============================] - 6s 114us/sample - loss: 0.2172 - accuracy: 0.9223 - val_loss: 0.2856 - val_accuracy: 0.8970\n",
      "Epoch 4/30\n",
      "55000/55000 [==============================] - 9s 162us/sample - loss: 0.2131 - accuracy: 0.9247 - val_loss: 0.2983 - val_accuracy: 0.8944\n",
      "Epoch 5/30\n",
      "55000/55000 [==============================] - 6s 112us/sample - loss: 0.2104 - accuracy: 0.9248 - val_loss: 0.2896 - val_accuracy: 0.8942\n",
      "Epoch 6/30\n",
      "55000/55000 [==============================] - 7s 119us/sample - loss: 0.2071 - accuracy: 0.9264 - val_loss: 0.2956 - val_accuracy: 0.8926\n",
      "Epoch 7/30\n",
      "55000/55000 [==============================] - 7s 131us/sample - loss: 0.2035 - accuracy: 0.9282 - val_loss: 0.2897 - val_accuracy: 0.8956\n",
      "Epoch 8/30\n",
      "55000/55000 [==============================] - 6s 103us/sample - loss: 0.2006 - accuracy: 0.9286 - val_loss: 0.2979 - val_accuracy: 0.8944\n",
      "Epoch 9/30\n",
      "55000/55000 [==============================] - 6s 114us/sample - loss: 0.1964 - accuracy: 0.9303 - val_loss: 0.2999 - val_accuracy: 0.8894\n",
      "Epoch 10/30\n",
      "55000/55000 [==============================] - 6s 116us/sample - loss: 0.1941 - accuracy: 0.9306 - val_loss: 0.2922 - val_accuracy: 0.8978\n",
      "Epoch 11/30\n",
      "55000/55000 [==============================] - 6s 101us/sample - loss: 0.1909 - accuracy: 0.9322 - val_loss: 0.2924 - val_accuracy: 0.8960\n",
      "Epoch 12/30\n",
      "55000/55000 [==============================] - 5s 97us/sample - loss: 0.1871 - accuracy: 0.9335 - val_loss: 0.3059 - val_accuracy: 0.8916\n",
      "Epoch 13/30\n",
      "55000/55000 [==============================] - 6s 102us/sample - loss: 0.1848 - accuracy: 0.9349 - val_loss: 0.2979 - val_accuracy: 0.8912\n",
      "Epoch 14/30\n",
      "55000/55000 [==============================] - 6s 116us/sample - loss: 0.1830 - accuracy: 0.9346 - val_loss: 0.2976 - val_accuracy: 0.8938\n",
      "Epoch 15/30\n",
      "55000/55000 [==============================] - 7s 120us/sample - loss: 0.1800 - accuracy: 0.9367 - val_loss: 0.2960 - val_accuracy: 0.8948\n",
      "Epoch 16/30\n",
      "55000/55000 [==============================] - 6s 102us/sample - loss: 0.1785 - accuracy: 0.9362 - val_loss: 0.3041 - val_accuracy: 0.8904\n",
      "Epoch 17/30\n",
      "55000/55000 [==============================] - 6s 104us/sample - loss: 0.1736 - accuracy: 0.9383 - val_loss: 0.3045 - val_accuracy: 0.8942\n",
      "Epoch 18/30\n",
      "55000/55000 [==============================] - 7s 123us/sample - loss: 0.1715 - accuracy: 0.9397 - val_loss: 0.2956 - val_accuracy: 0.8952\n",
      "Epoch 19/30\n",
      "55000/55000 [==============================] - 6s 105us/sample - loss: 0.1684 - accuracy: 0.9404 - val_loss: 0.2903 - val_accuracy: 0.8946\n",
      "Epoch 20/30\n",
      "55000/55000 [==============================] - 7s 119us/sample - loss: 0.1659 - accuracy: 0.9412 - val_loss: 0.3115 - val_accuracy: 0.8880\n",
      "Epoch 21/30\n",
      "55000/55000 [==============================] - 6s 118us/sample - loss: 0.1632 - accuracy: 0.9421 - val_loss: 0.2994 - val_accuracy: 0.8946\n",
      "Epoch 22/30\n",
      "55000/55000 [==============================] - 6s 117us/sample - loss: 0.1605 - accuracy: 0.9439 - val_loss: 0.3316 - val_accuracy: 0.8768\n",
      "Epoch 23/30\n",
      "55000/55000 [==============================] - 7s 120us/sample - loss: 0.1592 - accuracy: 0.9431 - val_loss: 0.2869 - val_accuracy: 0.8992\n",
      "Epoch 24/30\n",
      "55000/55000 [==============================] - 7s 132us/sample - loss: 0.1564 - accuracy: 0.9446 - val_loss: 0.2925 - val_accuracy: 0.8982\n",
      "Epoch 25/30\n",
      "55000/55000 [==============================] - 7s 127us/sample - loss: 0.1533 - accuracy: 0.9459 - val_loss: 0.3204 - val_accuracy: 0.8864\n",
      "Epoch 26/30\n",
      "55000/55000 [==============================] - 7s 122us/sample - loss: 0.1516 - accuracy: 0.9457 - val_loss: 0.2842 - val_accuracy: 0.8980\n",
      "Epoch 27/30\n",
      "55000/55000 [==============================] - 7s 125us/sample - loss: 0.1489 - accuracy: 0.9468 - val_loss: 0.2998 - val_accuracy: 0.8936\n",
      "Epoch 28/30\n",
      "55000/55000 [==============================] - 7s 127us/sample - loss: 0.1469 - accuracy: 0.9482 - val_loss: 0.2845 - val_accuracy: 0.9014\n",
      "Epoch 29/30\n",
      "55000/55000 [==============================] - 7s 125us/sample - loss: 0.1436 - accuracy: 0.9495 - val_loss: 0.2914 - val_accuracy: 0.8986\n",
      "Epoch 30/30\n",
      "55000/55000 [==============================] - 7s 120us/sample - loss: 0.1421 - accuracy: 0.9499 - val_loss: 0.3027 - val_accuracy: 0.8954\n"
     ]
    }
   ],
   "source": [
    "history=model.fit(X_train, y_train, epochs=30, validation_data=(X_valid, y_valid))"
   ]
  },
  {
   "cell_type": "code",
   "execution_count": 35,
   "metadata": {},
   "outputs": [
    {
     "name": "stdout",
     "output_type": "stream",
     "text": [
      "10000/10000 [==============================] - 1s 68us/sample - loss: 73.9133 - accuracy: 0.8562\n"
     ]
    },
    {
     "data": {
      "text/plain": [
       "[73.91330586471558, 0.8562]"
      ]
     },
     "execution_count": 35,
     "metadata": {},
     "output_type": "execute_result"
    }
   ],
   "source": [
    "model.evaluate(X_test, y_test)"
   ]
  },
  {
   "cell_type": "code",
   "execution_count": null,
   "metadata": {},
   "outputs": [],
   "source": []
  }
 ],
 "metadata": {
  "kernelspec": {
   "display_name": "Python 3",
   "language": "python",
   "name": "python3"
  },
  "language_info": {
   "codemirror_mode": {
    "name": "ipython",
    "version": 3
   },
   "file_extension": ".py",
   "mimetype": "text/x-python",
   "name": "python",
   "nbconvert_exporter": "python",
   "pygments_lexer": "ipython3",
   "version": "3.7.7"
  }
 },
 "nbformat": 4,
 "nbformat_minor": 4
}
